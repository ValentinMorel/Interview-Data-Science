{
 "cells": [
  {
   "cell_type": "markdown",
   "metadata": {},
   "source": [
    "# Elements de réponse pour interview Data Science"
   ]
  },
  {
   "cell_type": "markdown",
   "metadata": {},
   "source": [
    "- Quelles sont les 20 premières stations en terme de validations ?\n",
    "\n",
    "- Proposez une illustration graphique de ce classement.\n",
    "\n",
    "- Proposez une classification des arrêts en vous basant sur le nombre de validations par catégorie de titre ?\n",
    "\n",
    "- Quelles prédictions pouvez vous faire pour le nombre de validations dans les stations \"OLYMPIADES\" et \"M. MONTROUGE\" sur la plage du 24 au 30 juin ?"
   ]
  },
  {
   "cell_type": "code",
   "execution_count": 1,
   "metadata": {},
   "outputs": [],
   "source": [
    "import warnings \n",
    "warnings.filterwarnings('ignore')\n",
    "\n",
    "import pandas as pd \n",
    "import numpy as np \n",
    "import pandas_profiling\n",
    "from matplotlib import pyplot as plt"
   ]
  },
  {
   "cell_type": "code",
   "execution_count": 39,
   "metadata": {},
   "outputs": [],
   "source": [
    "# The separator in the file is \";\" according to documentation.\n",
    "data = pd.read_csv(\"validations-sur-le-reseau-ferre-nombre-de-validations-par-jour-1er-sem.csv\", sep = \";\")\n",
    "\n"
   ]
  },
  {
   "cell_type": "code",
   "execution_count": 3,
   "metadata": {},
   "outputs": [
    {
     "data": {
      "text/html": [
       "<div>\n",
       "<style scoped>\n",
       "    .dataframe tbody tr th:only-of-type {\n",
       "        vertical-align: middle;\n",
       "    }\n",
       "\n",
       "    .dataframe tbody tr th {\n",
       "        vertical-align: top;\n",
       "    }\n",
       "\n",
       "    .dataframe thead th {\n",
       "        text-align: right;\n",
       "    }\n",
       "</style>\n",
       "<table border=\"1\" class=\"dataframe\">\n",
       "  <thead>\n",
       "    <tr style=\"text-align: right;\">\n",
       "      <th></th>\n",
       "      <th>JOUR</th>\n",
       "      <th>CODE_STIF_TRNS</th>\n",
       "      <th>CODE_STIF_RES</th>\n",
       "      <th>CODE_STIF_ARRET</th>\n",
       "      <th>LIBELLE_ARRET</th>\n",
       "      <th>ID_REFA_LDA</th>\n",
       "      <th>CATEGORIE_TITRE</th>\n",
       "      <th>NB_VALD</th>\n",
       "    </tr>\n",
       "  </thead>\n",
       "  <tbody>\n",
       "    <tr>\n",
       "      <th>0</th>\n",
       "      <td>2020-01-25</td>\n",
       "      <td>800</td>\n",
       "      <td>822</td>\n",
       "      <td>2105</td>\n",
       "      <td>LES PAVILLONS-SOUS-BOIS</td>\n",
       "      <td>NaN</td>\n",
       "      <td>AMETHYSTE</td>\n",
       "      <td>11</td>\n",
       "    </tr>\n",
       "    <tr>\n",
       "      <th>1</th>\n",
       "      <td>2020-01-25</td>\n",
       "      <td>800</td>\n",
       "      <td>822</td>\n",
       "      <td>2107</td>\n",
       "      <td>LYCEE HENRI SELLIER</td>\n",
       "      <td>NaN</td>\n",
       "      <td>AMETHYSTE</td>\n",
       "      <td>Moins de 5</td>\n",
       "    </tr>\n",
       "    <tr>\n",
       "      <th>2</th>\n",
       "      <td>2020-01-25</td>\n",
       "      <td>800</td>\n",
       "      <td>822</td>\n",
       "      <td>2107</td>\n",
       "      <td>LYCEE HENRI SELLIER</td>\n",
       "      <td>NaN</td>\n",
       "      <td>IMAGINE R</td>\n",
       "      <td>44</td>\n",
       "    </tr>\n",
       "    <tr>\n",
       "      <th>3</th>\n",
       "      <td>2020-01-25</td>\n",
       "      <td>800</td>\n",
       "      <td>822</td>\n",
       "      <td>2107</td>\n",
       "      <td>LYCEE HENRI SELLIER</td>\n",
       "      <td>NaN</td>\n",
       "      <td>TST</td>\n",
       "      <td>Moins de 5</td>\n",
       "    </tr>\n",
       "    <tr>\n",
       "      <th>4</th>\n",
       "      <td>2020-01-25</td>\n",
       "      <td>800</td>\n",
       "      <td>822</td>\n",
       "      <td>2108</td>\n",
       "      <td>L'ABBAYE</td>\n",
       "      <td>NaN</td>\n",
       "      <td>AMETHYSTE</td>\n",
       "      <td>7</td>\n",
       "    </tr>\n",
       "    <tr>\n",
       "      <th>5</th>\n",
       "      <td>2020-01-25</td>\n",
       "      <td>800</td>\n",
       "      <td>822</td>\n",
       "      <td>2108</td>\n",
       "      <td>L'ABBAYE</td>\n",
       "      <td>NaN</td>\n",
       "      <td>IMAGINE R</td>\n",
       "      <td>17</td>\n",
       "    </tr>\n",
       "    <tr>\n",
       "      <th>6</th>\n",
       "      <td>2020-01-25</td>\n",
       "      <td>800</td>\n",
       "      <td>822</td>\n",
       "      <td>2110</td>\n",
       "      <td>ROUGEMONT-CHANTELOUP</td>\n",
       "      <td>NaN</td>\n",
       "      <td>IMAGINE R</td>\n",
       "      <td>24</td>\n",
       "    </tr>\n",
       "    <tr>\n",
       "      <th>7</th>\n",
       "      <td>2020-01-25</td>\n",
       "      <td>800</td>\n",
       "      <td>822</td>\n",
       "      <td>2111</td>\n",
       "      <td>AULNAY-SOUS-BOIS</td>\n",
       "      <td>NaN</td>\n",
       "      <td>AMETHYSTE</td>\n",
       "      <td>37</td>\n",
       "    </tr>\n",
       "    <tr>\n",
       "      <th>8</th>\n",
       "      <td>2020-01-25</td>\n",
       "      <td>800</td>\n",
       "      <td>822</td>\n",
       "      <td>2111</td>\n",
       "      <td>AULNAY-SOUS-BOIS</td>\n",
       "      <td>NaN</td>\n",
       "      <td>AUTRE TITRE</td>\n",
       "      <td>Moins de 5</td>\n",
       "    </tr>\n",
       "    <tr>\n",
       "      <th>9</th>\n",
       "      <td>2020-01-25</td>\n",
       "      <td>800</td>\n",
       "      <td>822</td>\n",
       "      <td>2111</td>\n",
       "      <td>AULNAY-SOUS-BOIS</td>\n",
       "      <td>NaN</td>\n",
       "      <td>NON DEFINI</td>\n",
       "      <td>9</td>\n",
       "    </tr>\n",
       "  </tbody>\n",
       "</table>\n",
       "</div>"
      ],
      "text/plain": [
       "         JOUR  CODE_STIF_TRNS CODE_STIF_RES CODE_STIF_ARRET  \\\n",
       "0  2020-01-25             800           822            2105   \n",
       "1  2020-01-25             800           822            2107   \n",
       "2  2020-01-25             800           822            2107   \n",
       "3  2020-01-25             800           822            2107   \n",
       "4  2020-01-25             800           822            2108   \n",
       "5  2020-01-25             800           822            2108   \n",
       "6  2020-01-25             800           822            2110   \n",
       "7  2020-01-25             800           822            2111   \n",
       "8  2020-01-25             800           822            2111   \n",
       "9  2020-01-25             800           822            2111   \n",
       "\n",
       "             LIBELLE_ARRET  ID_REFA_LDA CATEGORIE_TITRE     NB_VALD  \n",
       "0  LES PAVILLONS-SOUS-BOIS          NaN       AMETHYSTE          11  \n",
       "1      LYCEE HENRI SELLIER          NaN       AMETHYSTE  Moins de 5  \n",
       "2      LYCEE HENRI SELLIER          NaN       IMAGINE R          44  \n",
       "3      LYCEE HENRI SELLIER          NaN             TST  Moins de 5  \n",
       "4                 L'ABBAYE          NaN       AMETHYSTE           7  \n",
       "5                 L'ABBAYE          NaN       IMAGINE R          17  \n",
       "6     ROUGEMONT-CHANTELOUP          NaN       IMAGINE R          24  \n",
       "7         AULNAY-SOUS-BOIS          NaN       AMETHYSTE          37  \n",
       "8         AULNAY-SOUS-BOIS          NaN     AUTRE TITRE  Moins de 5  \n",
       "9         AULNAY-SOUS-BOIS          NaN      NON DEFINI           9  "
      ]
     },
     "execution_count": 3,
     "metadata": {},
     "output_type": "execute_result"
    }
   ],
   "source": [
    "# Check visually the aspect of the data\n",
    "data.head(10)\n"
   ]
  },
  {
   "cell_type": "code",
   "execution_count": 4,
   "metadata": {},
   "outputs": [
    {
     "data": {
      "text/plain": [
       "(835141, 8)"
      ]
     },
     "execution_count": 4,
     "metadata": {},
     "output_type": "execute_result"
    }
   ],
   "source": [
    "# Expected : 835141 rows according to documentation\n",
    "data.shape"
   ]
  },
  {
   "cell_type": "code",
   "execution_count": 5,
   "metadata": {},
   "outputs": [
    {
     "data": {
      "text/plain": [
       "JOUR                object\n",
       "CODE_STIF_TRNS       int64\n",
       "CODE_STIF_RES       object\n",
       "CODE_STIF_ARRET     object\n",
       "LIBELLE_ARRET       object\n",
       "ID_REFA_LDA        float64\n",
       "CATEGORIE_TITRE     object\n",
       "NB_VALD             object\n",
       "dtype: object"
      ]
     },
     "execution_count": 5,
     "metadata": {},
     "output_type": "execute_result"
    }
   ],
   "source": [
    "#Check the types in dataset - the ones we can process and the ones we have to transform \n",
    "data.dtypes"
   ]
  },
  {
   "cell_type": "code",
   "execution_count": 6,
   "metadata": {},
   "outputs": [
    {
     "data": {
      "text/html": [
       "<div>\n",
       "<style scoped>\n",
       "    .dataframe tbody tr th:only-of-type {\n",
       "        vertical-align: middle;\n",
       "    }\n",
       "\n",
       "    .dataframe tbody tr th {\n",
       "        vertical-align: top;\n",
       "    }\n",
       "\n",
       "    .dataframe thead th {\n",
       "        text-align: right;\n",
       "    }\n",
       "</style>\n",
       "<table border=\"1\" class=\"dataframe\">\n",
       "  <thead>\n",
       "    <tr style=\"text-align: right;\">\n",
       "      <th></th>\n",
       "      <th>CODE_STIF_TRNS</th>\n",
       "      <th>ID_REFA_LDA</th>\n",
       "    </tr>\n",
       "  </thead>\n",
       "  <tbody>\n",
       "    <tr>\n",
       "      <th>0</th>\n",
       "      <td>800</td>\n",
       "      <td>NaN</td>\n",
       "    </tr>\n",
       "    <tr>\n",
       "      <th>1</th>\n",
       "      <td>800</td>\n",
       "      <td>NaN</td>\n",
       "    </tr>\n",
       "    <tr>\n",
       "      <th>2</th>\n",
       "      <td>800</td>\n",
       "      <td>NaN</td>\n",
       "    </tr>\n",
       "    <tr>\n",
       "      <th>3</th>\n",
       "      <td>800</td>\n",
       "      <td>NaN</td>\n",
       "    </tr>\n",
       "    <tr>\n",
       "      <th>4</th>\n",
       "      <td>800</td>\n",
       "      <td>NaN</td>\n",
       "    </tr>\n",
       "    <tr>\n",
       "      <th>...</th>\n",
       "      <td>...</td>\n",
       "      <td>...</td>\n",
       "    </tr>\n",
       "    <tr>\n",
       "      <th>835136</th>\n",
       "      <td>100</td>\n",
       "      <td>71334.0</td>\n",
       "    </tr>\n",
       "    <tr>\n",
       "      <th>835137</th>\n",
       "      <td>100</td>\n",
       "      <td>71334.0</td>\n",
       "    </tr>\n",
       "    <tr>\n",
       "      <th>835138</th>\n",
       "      <td>100</td>\n",
       "      <td>71777.0</td>\n",
       "    </tr>\n",
       "    <tr>\n",
       "      <th>835139</th>\n",
       "      <td>100</td>\n",
       "      <td>71202.0</td>\n",
       "    </tr>\n",
       "    <tr>\n",
       "      <th>835140</th>\n",
       "      <td>100</td>\n",
       "      <td>71202.0</td>\n",
       "    </tr>\n",
       "  </tbody>\n",
       "</table>\n",
       "<p>835141 rows × 2 columns</p>\n",
       "</div>"
      ],
      "text/plain": [
       "        CODE_STIF_TRNS  ID_REFA_LDA\n",
       "0                  800          NaN\n",
       "1                  800          NaN\n",
       "2                  800          NaN\n",
       "3                  800          NaN\n",
       "4                  800          NaN\n",
       "...                ...          ...\n",
       "835136             100      71334.0\n",
       "835137             100      71334.0\n",
       "835138             100      71777.0\n",
       "835139             100      71202.0\n",
       "835140             100      71202.0\n",
       "\n",
       "[835141 rows x 2 columns]"
      ]
     },
     "execution_count": 6,
     "metadata": {},
     "output_type": "execute_result"
    }
   ],
   "source": [
    "data.select_dtypes(include = ['int64','float64'])"
   ]
  },
  {
   "cell_type": "code",
   "execution_count": 7,
   "metadata": {},
   "outputs": [
    {
     "data": {
      "text/plain": [
       "Index(['JOUR', 'CODE_STIF_TRNS', 'CODE_STIF_RES', 'CODE_STIF_ARRET',\n",
       "       'LIBELLE_ARRET', 'ID_REFA_LDA', 'CATEGORIE_TITRE', 'NB_VALD'],\n",
       "      dtype='object')"
      ]
     },
     "execution_count": 7,
     "metadata": {},
     "output_type": "execute_result"
    }
   ],
   "source": [
    "data.columns"
   ]
  },
  {
   "cell_type": "code",
   "execution_count": 47,
   "metadata": {},
   "outputs": [],
   "source": [
    "# 1 is symbolic and represents the smallest value in dataset since str type can not be processed with int, inferior to 5 here\n",
    "data = data.replace(to_replace={\"Moins de 5\": 1,\"AMETHYSTE\":0, \"IMAGINE R\":1, \"TST\":2, \"AUTRE TITRE\": 3, \"NON DEFINI\":4, \"FGT\":5, \"NAVIGO\":6, \"?\":0, \"NAVIGO JOUR\":8})\n",
    "\n",
    "KeptColumns = ['LIBELLE_ARRET', 'NB_VALD']\n",
    "PreprocessedData = [col for col in data.columns if col not in KeptColumns]"
   ]
  },
  {
   "cell_type": "code",
   "execution_count": 29,
   "metadata": {},
   "outputs": [],
   "source": [
    "data_test = data.drop(columns=PreprocessedData)"
   ]
  },
  {
   "cell_type": "code",
   "execution_count": 30,
   "metadata": {},
   "outputs": [
    {
     "data": {
      "text/html": [
       "<div>\n",
       "<style scoped>\n",
       "    .dataframe tbody tr th:only-of-type {\n",
       "        vertical-align: middle;\n",
       "    }\n",
       "\n",
       "    .dataframe tbody tr th {\n",
       "        vertical-align: top;\n",
       "    }\n",
       "\n",
       "    .dataframe thead th {\n",
       "        text-align: right;\n",
       "    }\n",
       "</style>\n",
       "<table border=\"1\" class=\"dataframe\">\n",
       "  <thead>\n",
       "    <tr style=\"text-align: right;\">\n",
       "      <th></th>\n",
       "      <th>LIBELLE_ARRET</th>\n",
       "      <th>NB_VALD</th>\n",
       "    </tr>\n",
       "  </thead>\n",
       "  <tbody>\n",
       "    <tr>\n",
       "      <th>0</th>\n",
       "      <td>LES PAVILLONS-SOUS-BOIS</td>\n",
       "      <td>11</td>\n",
       "    </tr>\n",
       "    <tr>\n",
       "      <th>1</th>\n",
       "      <td>LYCEE HENRI SELLIER</td>\n",
       "      <td>1</td>\n",
       "    </tr>\n",
       "    <tr>\n",
       "      <th>2</th>\n",
       "      <td>LYCEE HENRI SELLIER</td>\n",
       "      <td>44</td>\n",
       "    </tr>\n",
       "    <tr>\n",
       "      <th>3</th>\n",
       "      <td>LYCEE HENRI SELLIER</td>\n",
       "      <td>1</td>\n",
       "    </tr>\n",
       "    <tr>\n",
       "      <th>4</th>\n",
       "      <td>L'ABBAYE</td>\n",
       "      <td>7</td>\n",
       "    </tr>\n",
       "  </tbody>\n",
       "</table>\n",
       "</div>"
      ],
      "text/plain": [
       "             LIBELLE_ARRET NB_VALD\n",
       "0  LES PAVILLONS-SOUS-BOIS      11\n",
       "1      LYCEE HENRI SELLIER       1\n",
       "2      LYCEE HENRI SELLIER      44\n",
       "3      LYCEE HENRI SELLIER       1\n",
       "4                 L'ABBAYE       7"
      ]
     },
     "execution_count": 30,
     "metadata": {},
     "output_type": "execute_result"
    }
   ],
   "source": [
    "data_test.head()"
   ]
  },
  {
   "cell_type": "code",
   "execution_count": 31,
   "metadata": {},
   "outputs": [],
   "source": [
    "#pd.crosstab(data_test[\"LIBELLE_ARRET\"], data_test[\"NB_VALD\"][0]).stack()\n",
    "crosstabed = pd.crosstab(data_test[\"LIBELLE_ARRET\"], data_test[\"NB_VALD\"], margins=True, margins_name=\"Total\")"
   ]
  },
  {
   "cell_type": "code",
   "execution_count": 32,
   "metadata": {},
   "outputs": [],
   "source": [
    "crosstabed.reset_index(inplace=True)"
   ]
  },
  {
   "cell_type": "code",
   "execution_count": 33,
   "metadata": {},
   "outputs": [],
   "source": [
    "keep_col = ['LIBELLE_ARRET', 'Total']\n",
    "PreprocessedData = [col for col in crosstabed.columns if col not in keep_col]\n",
    "preproc = crosstabed.drop(columns=PreprocessedData)"
   ]
  },
  {
   "cell_type": "code",
   "execution_count": 34,
   "metadata": {},
   "outputs": [
    {
     "data": {
      "text/html": [
       "<div>\n",
       "<style scoped>\n",
       "    .dataframe tbody tr th:only-of-type {\n",
       "        vertical-align: middle;\n",
       "    }\n",
       "\n",
       "    .dataframe tbody tr th {\n",
       "        vertical-align: top;\n",
       "    }\n",
       "\n",
       "    .dataframe thead th {\n",
       "        text-align: right;\n",
       "    }\n",
       "</style>\n",
       "<table border=\"1\" class=\"dataframe\">\n",
       "  <thead>\n",
       "    <tr style=\"text-align: right;\">\n",
       "      <th>NB_VALD</th>\n",
       "      <th>LIBELLE_ARRET</th>\n",
       "      <th>Total</th>\n",
       "    </tr>\n",
       "  </thead>\n",
       "  <tbody>\n",
       "    <tr>\n",
       "      <th>0</th>\n",
       "      <td>ABBESSES</td>\n",
       "      <td>848</td>\n",
       "    </tr>\n",
       "    <tr>\n",
       "      <th>1</th>\n",
       "      <td>ABLON</td>\n",
       "      <td>1173</td>\n",
       "    </tr>\n",
       "    <tr>\n",
       "      <th>2</th>\n",
       "      <td>ACHERES-GRAND-CORMIER</td>\n",
       "      <td>832</td>\n",
       "    </tr>\n",
       "    <tr>\n",
       "      <th>3</th>\n",
       "      <td>ACHERES-VILLE</td>\n",
       "      <td>1236</td>\n",
       "    </tr>\n",
       "    <tr>\n",
       "      <th>4</th>\n",
       "      <td>AEROPORT CHARLES DE GAULLE 1</td>\n",
       "      <td>1069</td>\n",
       "    </tr>\n",
       "    <tr>\n",
       "      <th>...</th>\n",
       "      <td>...</td>\n",
       "      <td>...</td>\n",
       "    </tr>\n",
       "    <tr>\n",
       "      <th>673</th>\n",
       "      <td>VOSVES</td>\n",
       "      <td>240</td>\n",
       "    </tr>\n",
       "    <tr>\n",
       "      <th>674</th>\n",
       "      <td>VULAINES-SUR-SEINE-SAMOREAU</td>\n",
       "      <td>435</td>\n",
       "    </tr>\n",
       "    <tr>\n",
       "      <th>675</th>\n",
       "      <td>WAGRAM</td>\n",
       "      <td>1549</td>\n",
       "    </tr>\n",
       "    <tr>\n",
       "      <th>676</th>\n",
       "      <td>YERRES</td>\n",
       "      <td>1288</td>\n",
       "    </tr>\n",
       "    <tr>\n",
       "      <th>677</th>\n",
       "      <td>Total</td>\n",
       "      <td>835141</td>\n",
       "    </tr>\n",
       "  </tbody>\n",
       "</table>\n",
       "<p>678 rows × 2 columns</p>\n",
       "</div>"
      ],
      "text/plain": [
       "NB_VALD                 LIBELLE_ARRET   Total\n",
       "0                            ABBESSES     848\n",
       "1                               ABLON    1173\n",
       "2               ACHERES-GRAND-CORMIER     832\n",
       "3                       ACHERES-VILLE    1236\n",
       "4        AEROPORT CHARLES DE GAULLE 1    1069\n",
       "..                                ...     ...\n",
       "673                            VOSVES     240\n",
       "674       VULAINES-SUR-SEINE-SAMOREAU     435\n",
       "675                            WAGRAM    1549\n",
       "676                            YERRES    1288\n",
       "677                             Total  835141\n",
       "\n",
       "[678 rows x 2 columns]"
      ]
     },
     "execution_count": 34,
     "metadata": {},
     "output_type": "execute_result"
    }
   ],
   "source": [
    "preproc"
   ]
  },
  {
   "cell_type": "markdown",
   "metadata": {},
   "source": [
    "## The top 20 train stations"
   ]
  },
  {
   "cell_type": "code",
   "execution_count": 35,
   "metadata": {},
   "outputs": [
    {
     "data": {
      "text/plain": [
       "array(['ABLON', 'ACHERES-GRAND-CORMIER', 'ACHERES-VILLE',\n",
       "       'AEROPORT CHARLES DE GAULLE 1', 'AEROPORT CHARLES DE GAULLE 2-TGV',\n",
       "       'ALESIA', 'ALEXANDRE DUMAS', 'ALLEE DE LA TOUR RENDEZ-VOUS',\n",
       "       'ALMA-MARCEAU', 'ANATOLE FRANCE', 'ANDRESY', 'ANGERVILLE',\n",
       "       'ANVERS', 'ARBORETUM', 'ARGENTEUIL', 'ARGENTINE', 'ARPAJON',\n",
       "       'ARTS ET METIERS', 'ASNIERES', 'ASSEMBLEE NATIONALE'], dtype=object)"
      ]
     },
     "execution_count": 35,
     "metadata": {},
     "output_type": "execute_result"
    }
   ],
   "source": [
    "preproc[\"LIBELLE_ARRET\"][1:21].unique()"
   ]
  },
  {
   "cell_type": "code",
   "execution_count": 36,
   "metadata": {},
   "outputs": [
    {
     "data": {
      "image/png": "[encoded data removed]",
      "text/plain": [
       "<Figure size 576x396 with 1 Axes>"
      ]
     },
     "metadata": {},
     "output_type": "display_data"
    }
   ],
   "source": [
    "preproc = preproc.sort_values('Total', ascending=False)\n",
    "plt.bar(preproc[\"LIBELLE_ARRET\"][1:21], preproc[\"Total\"][1:21])\n",
    "locs, labels = plt.xticks()\n",
    "plt.setp(labels, rotation=90)\n",
    "plt.ylim([0, 5000])\n",
    "plt.show()"
   ]
  },
  {
   "cell_type": "code",
   "execution_count": 37,
   "metadata": {},
   "outputs": [
    {
     "data": {
      "text/html": [
       "<div>\n",
       "<style scoped>\n",
       "    .dataframe tbody tr th:only-of-type {\n",
       "        vertical-align: middle;\n",
       "    }\n",
       "\n",
       "    .dataframe tbody tr th {\n",
       "        vertical-align: top;\n",
       "    }\n",
       "\n",
       "    .dataframe thead th {\n",
       "        text-align: right;\n",
       "    }\n",
       "</style>\n",
       "<table border=\"1\" class=\"dataframe\">\n",
       "  <thead>\n",
       "    <tr style=\"text-align: right;\">\n",
       "      <th></th>\n",
       "      <th>LIBELLE_ARRET</th>\n",
       "      <th>NB_VALD</th>\n",
       "    </tr>\n",
       "  </thead>\n",
       "  <tbody>\n",
       "    <tr>\n",
       "      <th>0</th>\n",
       "      <td>LES PAVILLONS-SOUS-BOIS</td>\n",
       "      <td>11</td>\n",
       "    </tr>\n",
       "    <tr>\n",
       "      <th>1</th>\n",
       "      <td>LYCEE HENRI SELLIER</td>\n",
       "      <td>1</td>\n",
       "    </tr>\n",
       "    <tr>\n",
       "      <th>2</th>\n",
       "      <td>LYCEE HENRI SELLIER</td>\n",
       "      <td>44</td>\n",
       "    </tr>\n",
       "    <tr>\n",
       "      <th>3</th>\n",
       "      <td>LYCEE HENRI SELLIER</td>\n",
       "      <td>1</td>\n",
       "    </tr>\n",
       "    <tr>\n",
       "      <th>4</th>\n",
       "      <td>L'ABBAYE</td>\n",
       "      <td>7</td>\n",
       "    </tr>\n",
       "    <tr>\n",
       "      <th>...</th>\n",
       "      <td>...</td>\n",
       "      <td>...</td>\n",
       "    </tr>\n",
       "    <tr>\n",
       "      <th>835136</th>\n",
       "      <td>SAINT-PHILIPPE-DU-ROULE</td>\n",
       "      <td>19</td>\n",
       "    </tr>\n",
       "    <tr>\n",
       "      <th>835137</th>\n",
       "      <td>SAINT-PHILIPPE-DU-ROULE</td>\n",
       "      <td>18</td>\n",
       "    </tr>\n",
       "    <tr>\n",
       "      <th>835138</th>\n",
       "      <td>SAINT-SEBASTIEN FROISSART</td>\n",
       "      <td>37</td>\n",
       "    </tr>\n",
       "    <tr>\n",
       "      <th>835139</th>\n",
       "      <td>SAINT-SULPICE</td>\n",
       "      <td>41</td>\n",
       "    </tr>\n",
       "    <tr>\n",
       "      <th>835140</th>\n",
       "      <td>SAINT-SULPICE</td>\n",
       "      <td>7</td>\n",
       "    </tr>\n",
       "  </tbody>\n",
       "</table>\n",
       "<p>835141 rows × 2 columns</p>\n",
       "</div>"
      ],
      "text/plain": [
       "                    LIBELLE_ARRET NB_VALD\n",
       "0         LES PAVILLONS-SOUS-BOIS      11\n",
       "1             LYCEE HENRI SELLIER       1\n",
       "2             LYCEE HENRI SELLIER      44\n",
       "3             LYCEE HENRI SELLIER       1\n",
       "4                        L'ABBAYE       7\n",
       "...                           ...     ...\n",
       "835136    SAINT-PHILIPPE-DU-ROULE      19\n",
       "835137    SAINT-PHILIPPE-DU-ROULE      18\n",
       "835138  SAINT-SEBASTIEN FROISSART      37\n",
       "835139              SAINT-SULPICE      41\n",
       "835140              SAINT-SULPICE       7\n",
       "\n",
       "[835141 rows x 2 columns]"
      ]
     },
     "execution_count": 37,
     "metadata": {},
     "output_type": "execute_result"
    }
   ],
   "source": [
    "data_test"
   ]
  },
  {
   "cell_type": "markdown",
   "metadata": {},
   "source": [
    "## Prepare the data for classification model"
   ]
  },
  {
   "cell_type": "code",
   "execution_count": 71,
   "metadata": {},
   "outputs": [],
   "source": [
    "from sklearn.preprocessing import StandardScaler\n",
    "sc = StandardScaler()\n",
    "from sklearn.cluster import KMeans\n",
    "from sklearn.metrics import confusion_matrix\n",
    "from sklearn.metrics import accuracy_score\n",
    "\n",
    "\n",
    "\n",
    "train_prop = int(0.8 * len(data_class))\n",
    "\n",
    "X_train = data[\"NB_VALD\"][0:train_prop].values\n",
    "X_train = X_train.astype('float32')\n",
    "X_train = X_train.reshape(-1, 1)\n",
    "\n",
    "\n",
    "y_train = data[\"CATEGORIE_TITRE\"][0:train_prop].values\n",
    "y_train = y_train.reshape(-1, 1)\n",
    "\n",
    "X_test = data[\"NB_VALD\"][train_prop:].values\n",
    "X_test = X_test.reshape(-1, 1)\n",
    "\n",
    "y_test = data[\"CATEGORIE_TITRE\"][train_prop:].values\n",
    "y_test = y_test.reshape(-1, 1)\n"
   ]
  },
  {
   "cell_type": "markdown",
   "metadata": {},
   "source": [
    "### Dummy Classifier"
   ]
  },
  {
   "cell_type": "code",
   "execution_count": 73,
   "metadata": {},
   "outputs": [
    {
     "data": {
      "text/plain": [
       "0.22550575049841645"
      ]
     },
     "execution_count": 73,
     "metadata": {},
     "output_type": "execute_result"
    }
   ],
   "source": [
    "from sklearn.dummy import DummyClassifier\n",
    "clf = DummyClassifier(strategy='most_frequent',random_state=0)\n",
    "clf.fit(X_train,y_train)\n",
    "clf.score(X_test,y_test)"
   ]
  },
  {
   "cell_type": "markdown",
   "metadata": {},
   "source": [
    "### Random Forest Classifier"
   ]
  },
  {
   "cell_type": "code",
   "execution_count": 75,
   "metadata": {},
   "outputs": [
    {
     "data": {
      "text/plain": [
       "0.14114315478150502"
      ]
     },
     "execution_count": 75,
     "metadata": {},
     "output_type": "execute_result"
    }
   ],
   "source": [
    "from sklearn.ensemble import RandomForestClassifier\n",
    "rfclf = RandomForestClassifier(n_estimators=10, max_features='auto', oob_score=True, random_state=1)\n",
    "rfclf.fit(X_train,y_train)\n",
    "rfclf.score(X_test, y_test)\n"
   ]
  },
  {
   "cell_type": "markdown",
   "metadata": {},
   "source": [
    "### KMeans clustering"
   ]
  },
  {
   "cell_type": "code",
   "execution_count": 86,
   "metadata": {},
   "outputs": [],
   "source": [
    "kmeans = KMeans(n_clusters=8, random_state=0)"
   ]
  },
  {
   "cell_type": "code",
   "execution_count": 87,
   "metadata": {},
   "outputs": [
    {
     "data": {
      "text/plain": [
       "KMeans(random_state=0)"
      ]
     },
     "execution_count": 87,
     "metadata": {},
     "output_type": "execute_result"
    }
   ],
   "source": [
    "kmeans.fit(X_train)"
   ]
  },
  {
   "cell_type": "code",
   "execution_count": 90,
   "metadata": {},
   "outputs": [],
   "source": [
    "predictions = kmeans.predict(X_train)"
   ]
  },
  {
   "cell_type": "code",
   "execution_count": 91,
   "metadata": {},
   "outputs": [
    {
     "data": {
      "text/plain": [
       "array([[150509,      0,      0,      0,    109,   1212,      0,      0,\n",
       "             0],\n",
       "       [ 66829,    110,      0,      0,   2649,  16780,      0,    512,\n",
       "             0],\n",
       "       [ 78355,      0,      0,      0,    460,   4612,      0,     43,\n",
       "             0],\n",
       "       [ 45408,      0,      0,      0,      1,    733,      0,      0,\n",
       "             0],\n",
       "       [ 74164,      0,      0,      0,      0,    225,      0,      0,\n",
       "             0],\n",
       "       [ 82023,      0,      0,      0,    132,   2097,      0,      0,\n",
       "             0],\n",
       "       [ 52885,   2344,    503,     76,  12594,  19326,    125,   6174,\n",
       "             0],\n",
       "       [     0,      0,      0,      0,      0,      0,      0,      0,\n",
       "             0],\n",
       "       [ 47122,      0,      0,      0,      0,      0,      0,      0,\n",
       "             0]], dtype=int64)"
      ]
     },
     "execution_count": 91,
     "metadata": {},
     "output_type": "execute_result"
    }
   ],
   "source": [
    "confusion_matrix(y_train, predictions)"
   ]
  },
  {
   "cell_type": "code",
   "execution_count": 92,
   "metadata": {},
   "outputs": [
    {
     "name": "stdout",
     "output_type": "stream",
     "text": [
      "Accuracy = 22.88 %\n"
     ]
    }
   ],
   "source": [
    "acc = round(100 * accuracy_score(y_train, predictions), 2)\n",
    "\n",
    "print(\"Accuracy =\", acc, \"%\")"
   ]
  },
  {
   "cell_type": "markdown",
   "metadata": {},
   "source": [
    "#### Ways to Improve Performance\n",
    "\n",
    "- Visualize data with t-SNE (determine if data is linearly separable or not)\n",
    "- Does data contain patterns we can exploit ? \n",
    "- which station is directly correlated with the number of validations ? which ones are not ? \n",
    "- Does data need more preparation ? Do we need to extract features ? "
   ]
  },
  {
   "cell_type": "code",
   "execution_count": null,
   "metadata": {},
   "outputs": [],
   "source": []
  }
 ],
 "metadata": {
  "kernelspec": {
   "display_name": "Python 3",
   "language": "python",
   "name": "python3"
  },
  "language_info": {
   "codemirror_mode": {
    "name": "ipython",
    "version": 3
   },
   "file_extension": ".py",
   "mimetype": "text/x-python",
   "name": "python",
   "nbconvert_exporter": "python",
   "pygments_lexer": "ipython3",
   "version": "3.6.8"
  }
 },
 "nbformat": 4,
 "nbformat_minor": 4
}
